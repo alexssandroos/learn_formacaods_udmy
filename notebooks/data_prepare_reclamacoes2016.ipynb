{
 "cells": [
  {
   "cell_type": "code",
   "execution_count": 2,
   "metadata": {},
   "outputs": [],
   "source": [
    "# RECLAMACOES 2016\n",
    "# PREPARACAO DOS DADOS E EXPLORACAO\n",
    "from pandas import read_csv\n",
    "import matplotlib.pyplot as plt\n",
    "import seaborn as sns\n",
    "plt.style.use('fivethirtyeight')"
   ]
  },
  {
   "cell_type": "code",
   "execution_count": 3,
   "metadata": {},
   "outputs": [],
   "source": [
    "df = read_csv('../data/reclamacoes-fundamentadas-sindec-2016.csv')\n",
    "#df.shape : (203486, 23)"
   ]
  },
  {
   "cell_type": "code",
   "execution_count": 4,
   "metadata": {},
   "outputs": [
    {
     "data": {
      "text/html": [
       "<div>\n",
       "<style scoped>\n",
       "    .dataframe tbody tr th:only-of-type {\n",
       "        vertical-align: middle;\n",
       "    }\n",
       "\n",
       "    .dataframe tbody tr th {\n",
       "        vertical-align: top;\n",
       "    }\n",
       "\n",
       "    .dataframe thead th {\n",
       "        text-align: right;\n",
       "    }\n",
       "</style>\n",
       "<table border=\"1\" class=\"dataframe\">\n",
       "  <thead>\n",
       "    <tr style=\"text-align: right;\">\n",
       "      <th></th>\n",
       "      <th>AnoCalendario</th>\n",
       "      <th>DataArquivamento</th>\n",
       "      <th>DataAbertura</th>\n",
       "      <th>CodigoRegiao</th>\n",
       "      <th>Regiao</th>\n",
       "      <th>UF</th>\n",
       "      <th>strRazaoSocial</th>\n",
       "      <th>strNomeFantasia</th>\n",
       "      <th>Tipo</th>\n",
       "      <th>NumeroCNPJ</th>\n",
       "      <th>...</th>\n",
       "      <th>CNAEPrincipal</th>\n",
       "      <th>DescCNAEPrincipal</th>\n",
       "      <th>Atendida</th>\n",
       "      <th>CodigoAssunto</th>\n",
       "      <th>DescricaoAssunto</th>\n",
       "      <th>CodigoProblema</th>\n",
       "      <th>DescricaoProblema</th>\n",
       "      <th>SexoConsumidor</th>\n",
       "      <th>FaixaEtariaConsumidor</th>\n",
       "      <th>CEPConsumidor</th>\n",
       "    </tr>\n",
       "  </thead>\n",
       "  <tbody>\n",
       "    <tr>\n",
       "      <th>0</th>\n",
       "      <td>2016</td>\n",
       "      <td>2016-02-17 13:43:08.000</td>\n",
       "      <td>2015-10-29 10:59:59.000</td>\n",
       "      <td>2</td>\n",
       "      <td>Nordeste</td>\n",
       "      <td>PE</td>\n",
       "      <td>CVC BRASIL OPERADORA E AGENCIA DE VIAGENS S.A.</td>\n",
       "      <td>CVC</td>\n",
       "      <td>1</td>\n",
       "      <td>1.076026e+13</td>\n",
       "      <td>...</td>\n",
       "      <td>7911200.0</td>\n",
       "      <td>AGÊNCIAS DE VIAGENS</td>\n",
       "      <td>S</td>\n",
       "      <td>276</td>\n",
       "      <td>Agências e Operadoras de viagens (pacotes turí...</td>\n",
       "      <td>205.0</td>\n",
       "      <td>Consulta Sobre Serviços (Pesquisa, cartilha, e...</td>\n",
       "      <td>M</td>\n",
       "      <td>entre 61 a 70 anos</td>\n",
       "      <td>52061540.0</td>\n",
       "    </tr>\n",
       "    <tr>\n",
       "      <th>1</th>\n",
       "      <td>2016</td>\n",
       "      <td>2016-12-15 18:11:35.000</td>\n",
       "      <td>2016-11-18 14:52:22.000</td>\n",
       "      <td>2</td>\n",
       "      <td>Nordeste</td>\n",
       "      <td>PE</td>\n",
       "      <td>GIORGIO ARMANI BRASIL COMERCIO</td>\n",
       "      <td>EMPORIO ARMANI</td>\n",
       "      <td>1</td>\n",
       "      <td>1.318050e+13</td>\n",
       "      <td>...</td>\n",
       "      <td>NaN</td>\n",
       "      <td>NaN</td>\n",
       "      <td>N</td>\n",
       "      <td>132</td>\n",
       "      <td>Vestuário ( Calçado / Roupa )</td>\n",
       "      <td>105.0</td>\n",
       "      <td>Produto com vício</td>\n",
       "      <td>F</td>\n",
       "      <td>entre 31 a 40 anos</td>\n",
       "      <td>51010140.0</td>\n",
       "    </tr>\n",
       "  </tbody>\n",
       "</table>\n",
       "<p>2 rows × 23 columns</p>\n",
       "</div>"
      ],
      "text/plain": [
       "   AnoCalendario         DataArquivamento             DataAbertura  \\\n",
       "0           2016  2016-02-17 13:43:08.000  2015-10-29 10:59:59.000   \n",
       "1           2016  2016-12-15 18:11:35.000  2016-11-18 14:52:22.000   \n",
       "\n",
       "   CodigoRegiao    Regiao  UF                                  strRazaoSocial  \\\n",
       "0             2  Nordeste  PE  CVC BRASIL OPERADORA E AGENCIA DE VIAGENS S.A.   \n",
       "1             2  Nordeste  PE                  GIORGIO ARMANI BRASIL COMERCIO   \n",
       "\n",
       "  strNomeFantasia  Tipo    NumeroCNPJ      ...       CNAEPrincipal  \\\n",
       "0             CVC     1  1.076026e+13      ...           7911200.0   \n",
       "1  EMPORIO ARMANI     1  1.318050e+13      ...                 NaN   \n",
       "\n",
       "     DescCNAEPrincipal Atendida  CodigoAssunto  \\\n",
       "0  AGÊNCIAS DE VIAGENS        S            276   \n",
       "1                  NaN        N            132   \n",
       "\n",
       "                                    DescricaoAssunto CodigoProblema  \\\n",
       "0  Agências e Operadoras de viagens (pacotes turí...          205.0   \n",
       "1                      Vestuário ( Calçado / Roupa )          105.0   \n",
       "\n",
       "                                   DescricaoProblema SexoConsumidor  \\\n",
       "0  Consulta Sobre Serviços (Pesquisa, cartilha, e...              M   \n",
       "1                                  Produto com vício              F   \n",
       "\n",
       "   FaixaEtariaConsumidor CEPConsumidor  \n",
       "0     entre 61 a 70 anos    52061540.0  \n",
       "1     entre 31 a 40 anos    51010140.0  \n",
       "\n",
       "[2 rows x 23 columns]"
      ]
     },
     "execution_count": 4,
     "metadata": {},
     "output_type": "execute_result"
    }
   ],
   "source": [
    "df.head(2)"
   ]
  },
  {
   "cell_type": "code",
   "execution_count": 6,
   "metadata": {},
   "outputs": [
    {
     "data": {
      "text/plain": [
       "<matplotlib.axes._subplots.AxesSubplot at 0x1287c7a20>"
      ]
     },
     "execution_count": 6,
     "metadata": {},
     "output_type": "execute_result"
    },
    {
     "data": {
      "image/png": "[encoded data removed]",
      "text/plain": [
       "<Figure size 432x288 with 1 Axes>"
      ]
     },
     "metadata": {
      "needs_background": "light"
     },
     "output_type": "display_data"
    }
   ],
   "source": [
    "plt.title(\"Relacacoes por regiao\")\n",
    "sns.countplot(x='Regiao',hue='Atendida', data=df)"
   ]
  },
  {
   "cell_type": "code",
   "execution_count": 11,
   "metadata": {},
   "outputs": [
    {
     "data": {
      "text/plain": [
       "BANCOS MÚLTIPLOS, COM CARTEIRA COMERCIAL                                                                             16162\n",
       "TELEFONIA MÓVEL CELULAR                                                                                              16080\n",
       "SERVIÇOS DE TELEFONIA FIXA COMUTADA - STFC                                                                           10783\n",
       "COMÉRCIO VAREJISTA ESPECIALIZADO DE ELETRODOMÉSTICOS E EQUIPAMENTOS DE ÁUDIO E VÍDEO                                  9363\n",
       "DISTRIBUIÇÃO DE ENERGIA ELÉTRICA                                                                                      6427\n",
       "SEGUROS NÃO-VIDA                                                                                                      4666\n",
       "LOJAS DE DEPARTAMENTOS OU MAGAZINES                                                                                   4437\n",
       "FABRICAÇÃO DE APARELHOS DE RECEPÇÃO, REPRODUÇÃO, GRAVAÇÃO E AMPLIFICAÇÃO DE ÁUDIO E VÍDEO                             4414\n",
       "OPERADORAS DE TELEVISÃO POR ASSINATURA POR SATÉLITE                                                                   4404\n",
       "CAPTAÇÃO, TRATAMENTO E DISTRIBUIÇÃO DE ÁGUA                                                                           4088\n",
       "HOLDINGS DE INSTITUIÇÕES NÃO-FINANCEIRAS                                                                              3989\n",
       "COMÉRCIO VAREJISTA DE MÓVEIS                                                                                          3653\n",
       "FABRICAÇÃO DE FOGÕES, REFRIGERADORES E MÁQUINAS DE LAVAR E SECAR PARA USO DOMÉSTICO, PEÇAS E ACESSÓRIOS               3633\n",
       "CAIXAS ECONÔMICAS                                                                                                     3605\n",
       "COMÉRCIO ATACADISTA DE COMPONENTES ELETRÔNICOS E EQUIPAMENTOS DE TELEFONIA E COMUNICAÇÃO                              3216\n",
       "SOCIEDADES DE CRÉDITO, FINANCIAMENTO E INVESTIMENTO - FINANCEIRAS                                                     3159\n",
       "FABRICAÇÃO DE EQUIPAMENTOS DE INFORMÁTICA                                                                             2962\n",
       "COMÉRCIO VAREJISTA DE OUTROS PRODUTOS NÃO ESPECIFICADOS ANTERIORMENTE                                                 2863\n",
       "ADMINISTRAÇÃO DE CARTÕES DE CRÉDITO                                                                                   2698\n",
       "SEGUROS DE VIDA                                                                                                       2524\n",
       "PLANOS DE SAÚDE                                                                                                       1995\n",
       "COMÉRCIO VAREJISTA DE ARTIGOS DO VESTUÁRIO E ACESSÓRIOS                                                               1961\n",
       "COMÉRCIO VAREJISTA ESPECIALIZADO DE EQUIPAMENTOS DE TELEFONIA E COMUNICAÇÃO                                           1856\n",
       "COMÉRCIO ATACADISTA DE APARELHOS ELETRÔNICOS DE USO PESSOAL E DOMÉSTICO                                               1771\n",
       "COMÉRCIO VAREJISTA DE MERCADORIAS EM GERAL, COM PREDOMINÂNCIA DE PRODUTOS ALIMENTÍCIOS - SUPERMERCADOS                1764\n",
       "ATIVIDADES DE ASSOCIAÇÕES DE DEFESA DE DIREITOS SOCIAIS                                                               1714\n",
       "FABRICAÇÃO DE APARELHOS TELEFÔNICOS E DE OUTROS EQUIPAMENTOS DE COMUNICAÇÃO, PEÇAS E ACESSÓRIOS                       1601\n",
       "EDUCAÇÃO SUPERIOR - GRADUAÇÃO                                                                                         1572\n",
       "INCORPORAÇÃO DE EMPREENDIMENTOS IMOBILIÁRIOS                                                                          1470\n",
       "AGÊNCIAS DE VIAGENS                                                                                                   1462\n",
       "                                                                                                                     ...  \n",
       "REPRESENTANTES COMERCIAIS E AGENTES DO COMÉRCIO DE PEÇAS E ACESSÓRIOS NOVOS E USADOS PARA VEÍCULOS AUTOMOTORES           1\n",
       "INSTALAÇÕES DE SISTEMA DE PREVENÇÃO CONTRA INCÊNDIO                                                                      1\n",
       "ALUGUEL DE MÁQUINAS E EQUIPAMENTOS AGRÍCOLAS SEM OPERADOR                                                                1\n",
       "ATIVIDADES DE PÓS-PRODUÇÃO CINEMATOGRÁFICA, DE VÍDEOS E DE PROGRAMAS DE TELEVISÃO NÃO ESPECIFICADAS ANTERIORMENTE        1\n",
       "LAPIDAÇÃO DE GEMAS                                                                                                       1\n",
       "EXPLORAÇÃO DE JOGOS DE SINUCA, BILHAR E SIMILARES                                                                        1\n",
       "FABRICAÇÃO DE ESCOVAS, PINCÉIS E VASSOURAS                                                                               1\n",
       "TRANSPORTE POR NAVEGAÇÃO DE TRAVESSIA, INTERMUNICIPAL                                                                    1\n",
       "CONSTRUÇÃO DE EMBARCAÇÕES DE GRANDE PORTE                                                                                1\n",
       "TRANSPORTE METROVIÁRIO                                                                                                   1\n",
       "SERVIÇO DE TRANSPORTE DE PASSAGEIROS - LOCAÇÃO DE AUTOMÓVEIS COM MOTORISTA                                               1\n",
       "FABRICAÇÃO DE IMPERMEABILIZANTES, SOLVENTES E PRODUTOS AFINS                                                             1\n",
       "ALUGUEL DE EQUIPAMENTOS RECREATIVOS E ESPORTIVOS                                                                         1\n",
       "MOAGEM DE TRIGO E FABRICAÇÃO DE DERIVADOS                                                                                1\n",
       "MANUTENÇÃO E REPARAÇÃO DE MÁQUINAS, APARELHOS E EQUIPAMENTOS PARA INSTALAÇÕES TÉRMICAS                                   1\n",
       "METALURGIA DE OUTROS METAIS NÃO-FERROSOS E SUAS LIGAS NÃO ESPECIFICADOS ANTERIORMENTE                                    1\n",
       "FRIGORÍFICO - ABATE DE SUÍNOS                                                                                            1\n",
       "FABRICAÇÃO DE CONSERVAS DE PALMITO                                                                                       1\n",
       "ENSINO DE ARTE E CULTURA NÃO ESPECIFICADO ANTERIORMENTE                                                                  1\n",
       "ACABAMENTO DE CALÇADOS DE COURO SOB CONTRATO                                                                             1\n",
       "EXTRAÇÃO DE ARGILA E BENEFICIAMENTO ASSOCIADO                                                                            1\n",
       "FABRICAÇÃO DE ESPECIARIAS, MOLHOS, TEMPEROS E CONDIMENTOS                                                                1\n",
       "COMÉRCIO ATACADISTA DE LUSTRES, LUMINÁRIAS E ABAJURES                                                                    1\n",
       "MANUTENÇÃO E REPARAÇÃO DE EMBARCAÇÕES PARA ESPORTE E LAZER                                                               1\n",
       "RELAÇÕES EXTERIORES                                                                                                      1\n",
       "FABRICAÇÃO DE ARTEFATOS DE COURO NÃO ESPECIFICADOS ANTERIORMENTE                                                         1\n",
       "FUNDIÇÃO DE METAIS NÃO-FERROSOS E SUAS LIGAS                                                                             1\n",
       "SERVIÇOS DE DIAGNÓSTICO POR MÉTODOS ÓPTICOS - ENDOSCOPIA E OUTROS EXAMES ANÁLOGOS                                        1\n",
       "TECELAGEM DE FIOS DE FIBRAS ARTIFICIAIS E SINTÉTICAS                                                                     1\n",
       "ADMINISTRAÇÃO DE OBRAS                                                                                                   1\n",
       "Name: DescCNAEPrincipal, Length: 748, dtype: int64"
      ]
     },
     "execution_count": 11,
     "metadata": {},
     "output_type": "execute_result"
    }
   ],
   "source": [
    "df['DescCNAEPrincipal'].value_counts()"
   ]
  },
  {
   "cell_type": "code",
   "execution_count": null,
   "metadata": {},
   "outputs": [],
   "source": []
  }
 ],
 "metadata": {
  "kernelspec": {
   "display_name": "Python 3",
   "language": "python",
   "name": "python3"
  },
  "language_info": {
   "codemirror_mode": {
    "name": "ipython",
    "version": 3
   },
   "file_extension": ".py",
   "mimetype": "text/x-python",
   "name": "python",
   "nbconvert_exporter": "python",
   "pygments_lexer": "ipython3",
   "version": "3.6.7"
  }
 },
 "nbformat": 4,
 "nbformat_minor": 2
}
