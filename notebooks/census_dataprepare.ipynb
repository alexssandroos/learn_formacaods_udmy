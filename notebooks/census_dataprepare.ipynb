{
 "cells": [
  {
   "cell_type": "markdown",
   "metadata": {},
   "source": [
    "Data Prepare census"
   ]
  },
  {
   "cell_type": "code",
   "execution_count": null,
   "metadata": {},
   "outputs": [],
   "source": [
    "from sklearn.preprocessing import LabelEncoder\n",
    "from sklearn.preprocessing import OneHotEncoder\n",
    "from pandas import read_csv \n",
    "from pandas import get_dummies\n",
    "from pandas import concat\n",
    "#from pandas.core.generic import NDFrame as dataframe\n",
    "\n",
    "df = read_csv('../data/census.csv')\n",
    "\n",
    "#funcoes uteis\n",
    "def fill_na_median(dataframe, grupo, valor, tipo='median'):\n",
    "    return dataframe[valor].fillna(dataframe.groupby(grupo)[valor].transform(tipo))\n",
    "#normaliza a coluna do tipo standardization\n",
    "def nomaliza_std(dataframe, coluna):\n",
    "    return (dataframe[coluna]-dataframe[coluna].mean())/dataframe[coluna].std()\n",
    "#return columns with one hot encoding\n",
    "def set_onehotencoding(dataframe, coluna):\n",
    "    cols = get_dummies(dataframe[coluna], prefix=coluna, drop_first=False)\n",
    "    dataframe.drop(coluna, axis=1, inplace=True)\n",
    "    return concat([dataframe,cols],axis=1)"
   ]
  },
  {
   "cell_type": "code",
   "execution_count": null,
   "metadata": {},
   "outputs": [],
   "source": [
    "# uso de Label Encoder\n",
    "'''\n",
    "le = LabelEncoder()\n",
    "features_to_encoder = ['workclass', 'education','marital-status',\\\n",
    "                       'occupation', 'relationship', 'race', 'sex', 'native-country']\n",
    "for feature in features_to_encoder:\n",
    "    df[feature] = le.fit_transform(df[feature])\n",
    "'''"
   ]
  },
  {
   "cell_type": "code",
   "execution_count": null,
   "metadata": {},
   "outputs": [],
   "source": [
    "#uso do one hot encoder\n",
    "features_to_encoder = ['workclass', 'education','marital-status',\\\n",
    "                       'occupation', 'relationship', 'race', 'sex', 'native-country']\n",
    "for feature in features_to_encoder:\n",
    "    df = set_onehotencoding(df, feature)"
   ]
  }
 ],
 "metadata": {
  "kernelspec": {
   "display_name": "Python 3",
   "language": "python",
   "name": "python3"
  },
  "language_info": {
   "codemirror_mode": {
    "name": "ipython",
    "version": 3
   },
   "file_extension": ".py",
   "mimetype": "text/x-python",
   "name": "python",
   "nbconvert_exporter": "python",
   "pygments_lexer": "ipython3",
   "version": "3.6.7"
  }
 },
 "nbformat": 4,
 "nbformat_minor": 2
}
