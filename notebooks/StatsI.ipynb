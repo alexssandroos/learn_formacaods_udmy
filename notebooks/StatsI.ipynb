{
 "cells": [
  {
   "cell_type": "markdown",
   "metadata": {},
   "source": [
    "# ESTATISTICA MODULO 1"
   ]
  },
  {
   "cell_type": "code",
   "execution_count": 1,
   "metadata": {},
   "outputs": [],
   "source": [
    "from scipy.stats import binom"
   ]
  },
  {
   "cell_type": "markdown",
   "metadata": {},
   "source": [
    "## DISTRIBUICAO BINOMIAL"
   ]
  },
  {
   "cell_type": "code",
   "execution_count": 5,
   "metadata": {},
   "outputs": [
    {
     "data": {
      "text/plain": [
       "0.3125"
      ]
     },
     "execution_count": 5,
     "metadata": {},
     "output_type": "execute_result"
    }
   ],
   "source": [
    "# calcular a probabilidade de jogar uma moeda e dar cara 3 vezes\n",
    "# primeiro parametro : 3 retorno desejado \n",
    "# segundo parametro : 5 total de tentativas\n",
    "# terceiro parametro : 0.5 probabilidade isolada de cada evento.\n",
    "probabilidade = binom.pmf(3,5,0.5)\n",
    "probabilidade"
   ]
  },
  {
   "cell_type": "code",
   "execution_count": 17,
   "metadata": {},
   "outputs": [
    {
     "name": "stdout",
     "output_type": "stream",
     "text": [
      "0 semaforo(s) : 0.31640625000000006\n",
      "1 semaforo(s) : 0.4218750000000001\n",
      "2 semaforo(s) : 0.21093750000000006\n",
      "3 semaforo(s) : 0.046875000000000035\n",
      "4 semaforo(s) : 0.003906250000000001\n"
     ]
    }
   ],
   "source": [
    "# probabilidade de passando 4 sinais de 4 tempos passar por \n",
    "# 0 , 1, 2, 3 e 4 sinais verdes.\n",
    "probabilidades = [binom.pmf(0,4,0.25),\n",
    "binom.pmf(1,4,0.25),\n",
    "binom.pmf(2,4,0.25),\n",
    "binom.pmf(3,4,0.25),\n",
    "binom.pmf(4,4,0.25)]\n",
    "i = 0\n",
    "for probabilidade in probabilidades:\n",
    "    print(f'{i} semaforo(s) : {probabilidade}')\n",
    "    i+=1"
   ]
  },
  {
   "cell_type": "code",
   "execution_count": 26,
   "metadata": {},
   "outputs": [
    {
     "data": {
      "text/plain": [
       "0.99609375"
      ]
     },
     "execution_count": 26,
     "metadata": {},
     "output_type": "execute_result"
    }
   ],
   "source": [
    "# Probabilidade acumulada\n",
    "binom.cdf(3,4,0.25)"
   ]
  },
  {
   "cell_type": "markdown",
   "metadata": {},
   "source": [
    "## DISTRIBUICAO NORMAL"
   ]
  },
  {
   "cell_type": "code",
   "execution_count": 37,
   "metadata": {},
   "outputs": [],
   "source": [
    "import numpy as np\n",
    "import pandas as pd"
   ]
  },
  {
   "cell_type": "code",
   "execution_count": 104,
   "metadata": {},
   "outputs": [],
   "source": [
    "normal = pd.DataFrame(np.random.randn(1500))"
   ]
  },
  {
   "cell_type": "code",
   "execution_count": 105,
   "metadata": {},
   "outputs": [
    {
     "data": {
      "text/html": [
       "<div>\n",
       "<style scoped>\n",
       "    .dataframe tbody tr th:only-of-type {\n",
       "        vertical-align: middle;\n",
       "    }\n",
       "\n",
       "    .dataframe tbody tr th {\n",
       "        vertical-align: top;\n",
       "    }\n",
       "\n",
       "    .dataframe thead th {\n",
       "        text-align: right;\n",
       "    }\n",
       "</style>\n",
       "<table border=\"1\" class=\"dataframe\">\n",
       "  <thead>\n",
       "    <tr style=\"text-align: right;\">\n",
       "      <th></th>\n",
       "      <th>0</th>\n",
       "    </tr>\n",
       "  </thead>\n",
       "  <tbody>\n",
       "    <tr>\n",
       "      <th>count</th>\n",
       "      <td>1500.000000</td>\n",
       "    </tr>\n",
       "    <tr>\n",
       "      <th>mean</th>\n",
       "      <td>0.003290</td>\n",
       "    </tr>\n",
       "    <tr>\n",
       "      <th>std</th>\n",
       "      <td>0.986692</td>\n",
       "    </tr>\n",
       "    <tr>\n",
       "      <th>min</th>\n",
       "      <td>-3.529321</td>\n",
       "    </tr>\n",
       "    <tr>\n",
       "      <th>25%</th>\n",
       "      <td>-0.658425</td>\n",
       "    </tr>\n",
       "    <tr>\n",
       "      <th>50%</th>\n",
       "      <td>-0.008881</td>\n",
       "    </tr>\n",
       "    <tr>\n",
       "      <th>75%</th>\n",
       "      <td>0.682300</td>\n",
       "    </tr>\n",
       "    <tr>\n",
       "      <th>max</th>\n",
       "      <td>2.936866</td>\n",
       "    </tr>\n",
       "  </tbody>\n",
       "</table>\n",
       "</div>"
      ],
      "text/plain": [
       "                 0\n",
       "count  1500.000000\n",
       "mean      0.003290\n",
       "std       0.986692\n",
       "min      -3.529321\n",
       "25%      -0.658425\n",
       "50%      -0.008881\n",
       "75%       0.682300\n",
       "max       2.936866"
      ]
     },
     "execution_count": 105,
     "metadata": {},
     "output_type": "execute_result"
    }
   ],
   "source": [
    "normal.describe()"
   ]
  },
  {
   "cell_type": "code",
   "execution_count": 47,
   "metadata": {},
   "outputs": [
    {
     "data": {
      "text/plain": [
       "1.0670964502609936"
      ]
     },
     "execution_count": 47,
     "metadata": {},
     "output_type": "execute_result"
    }
   ],
   "source": [
    "normal.std()[0]"
   ]
  },
  {
   "cell_type": "code",
   "execution_count": 57,
   "metadata": {},
   "outputs": [
    {
     "data": {
      "text/plain": [
       "0.13378925803396935"
      ]
     },
     "execution_count": 57,
     "metadata": {},
     "output_type": "execute_result"
    }
   ],
   "source": [
    "normal.mean()[0]"
   ]
  },
  {
   "cell_type": "code",
   "execution_count": 74,
   "metadata": {},
   "outputs": [
    {
     "data": {
      "text/plain": [
       "0    325\n",
       "dtype: int64"
      ]
     },
     "execution_count": 74,
     "metadata": {},
     "output_type": "execute_result"
    }
   ],
   "source": [
    "desvio = normal.std()[0]\n",
    "media = normal.mean()[0]\n",
    "n = 1\n",
    "tamanho = normal.count()\n",
    "normal[(normal[0] <= media-(desvio*n)) | (normal[0] >= media+(desvio*n))].count()\n",
    "\n"
   ]
  },
  {
   "cell_type": "code",
   "execution_count": 75,
   "metadata": {},
   "outputs": [
    {
     "data": {
      "text/plain": [
       "0    1000\n",
       "dtype: int64"
      ]
     },
     "execution_count": 75,
     "metadata": {},
     "output_type": "execute_result"
    }
   ],
   "source": [
    "tamanho"
   ]
  },
  {
   "cell_type": "code",
   "execution_count": 106,
   "metadata": {},
   "outputs": [],
   "source": [
    "def verifica_normal(coluna):\n",
    "    desvios = [1,2,3]\n",
    "    n = 1\n",
    "    desvio = coluna.std()[0]\n",
    "    media = coluna.mean()[0]\n",
    "    tamanho = coluna.count()[0]\n",
    "    primeiro_std = coluna[(coluna[0] <= media-(desvio*n)) | (coluna[0] >= media+(desvio*n))].count()[0]\n",
    "    print(f'Tamanho da amostra : {tamanho}')\n",
    "    print(f'Media da amostra : {media}')\n",
    "    print(f'Desvio P. da amostra : {desvio}')\n",
    "    print(f'Dentro do 1 Desvio P. da amostra : {tamanho - primeiro_std} / {((tamanho - primeiro_std)/tamanho)*100} %')\n",
    "    for n in desvios:\n",
    "        std = coluna[(coluna[0] <= media-(desvio*n)) | (coluna[0] >= media+(desvio*n))].count()[0]\n",
    "        print(f'Acima do {n} Desvio P. da amostra : {std} / {((std)/tamanho)*100} %')"
   ]
  },
  {
   "cell_type": "code",
   "execution_count": 107,
   "metadata": {},
   "outputs": [
    {
     "name": "stdout",
     "output_type": "stream",
     "text": [
      "Tamanho da amostra : 1500\n",
      "Media da amostra : 0.0032896811604454755\n",
      "Desvio P. da amostra : 0.986691579739552\n",
      "Dentro do 1 Desvio P. da amostra : 1023 / 68.2 %\n",
      "Acima do 1 Desvio P. da amostra : 477 / 31.8 %\n",
      "Acima do 2 Desvio P. da amostra : 71 / 4.733333333333333 %\n",
      "Acima do 3 Desvio P. da amostra : 1 / 0.06666666666666667 %\n"
     ]
    }
   ],
   "source": [
    "verifica_normal(normal)"
   ]
  },
  {
   "cell_type": "code",
   "execution_count": 108,
   "metadata": {},
   "outputs": [],
   "source": [
    "# definicoes da distribuicao normal \n",
    "# media central \n",
    "# 68 % dos dados dentro do primeiro desvio padrao\n",
    "# 27% dentro do segundo desvio\n",
    "# 4 % dentro do terceiro"
   ]
  },
  {
   "cell_type": "code",
   "execution_count": 110,
   "metadata": {},
   "outputs": [
    {
     "data": {
      "text/plain": [
       "<matplotlib.axes._subplots.AxesSubplot at 0x1184c3518>"
      ]
     },
     "execution_count": 110,
     "metadata": {},
     "output_type": "execute_result"
    },
    {
     "data": {
      "image/png": "[encoded data removed]",
      "text/plain": [
       "<Figure size 432x288 with 1 Axes>"
      ]
     },
     "metadata": {
      "needs_background": "light"
     },
     "output_type": "display_data"
    }
   ],
   "source": [
    "normal.plot.hist()"
   ]
  },
  {
   "cell_type": "code",
   "execution_count": null,
   "metadata": {},
   "outputs": [],
   "source": []
  }
 ],
 "metadata": {
  "kernelspec": {
   "display_name": "Python 3",
   "language": "python",
   "name": "python3"
  },
  "language_info": {
   "codemirror_mode": {
    "name": "ipython",
    "version": 3
   },
   "file_extension": ".py",
   "mimetype": "text/x-python",
   "name": "python",
   "nbconvert_exporter": "python",
   "pygments_lexer": "ipython3",
   "version": "3.6.7"
  }
 },
 "nbformat": 4,
 "nbformat_minor": 2
}
