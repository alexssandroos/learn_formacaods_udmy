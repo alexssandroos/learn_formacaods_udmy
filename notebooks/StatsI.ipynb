{
 "cells": [
  {
   "cell_type": "markdown",
   "metadata": {},
   "source": [
    "# ESTATISTICA MODULO 1"
   ]
  },
  {
   "cell_type": "code",
   "execution_count": 1,
   "metadata": {},
   "outputs": [],
   "source": [
    "from scipy.stats import binom"
   ]
  },
  {
   "cell_type": "markdown",
   "metadata": {},
   "source": [
    "## DISTRIBUICAO BINOMIAL"
   ]
  },
  {
   "cell_type": "code",
   "execution_count": 5,
   "metadata": {},
   "outputs": [
    {
     "data": {
      "text/plain": [
       "0.3125"
      ]
     },
     "execution_count": 5,
     "metadata": {},
     "output_type": "execute_result"
    }
   ],
   "source": [
    "# calcular a probabilidade de jogar uma moeda e dar cara 3 vezes\n",
    "# primeiro parametro : 3 retorno desejado \n",
    "# segundo parametro : 5 total de tentativas\n",
    "# terceiro parametro : 0.5 probabilidade isolada de cada evento.\n",
    "probabilidade = binom.pmf(3,5,0.5)\n",
    "probabilidade"
   ]
  },
  {
   "cell_type": "code",
   "execution_count": 17,
   "metadata": {},
   "outputs": [
    {
     "name": "stdout",
     "output_type": "stream",
     "text": [
      "0 semaforo(s) : 0.31640625000000006\n",
      "1 semaforo(s) : 0.4218750000000001\n",
      "2 semaforo(s) : 0.21093750000000006\n",
      "3 semaforo(s) : 0.046875000000000035\n",
      "4 semaforo(s) : 0.003906250000000001\n"
     ]
    }
   ],
   "source": [
    "# probabilidade de passando 4 sinais de 4 tempos passar por \n",
    "# 0 , 1, 2, 3 e 4 sinais verdes.\n",
    "probabilidades = [binom.pmf(0,4,0.25),\n",
    "binom.pmf(1,4,0.25),\n",
    "binom.pmf(2,4,0.25),\n",
    "binom.pmf(3,4,0.25),\n",
    "binom.pmf(4,4,0.25)]\n",
    "i = 0\n",
    "for probabilidade in probabilidades:\n",
    "    print(f'{i} semaforo(s) : {probabilidade}')\n",
    "    i+=1"
   ]
  },
  {
   "cell_type": "code",
   "execution_count": 26,
   "metadata": {},
   "outputs": [
    {
     "data": {
      "text/plain": [
       "0.99609375"
      ]
     },
     "execution_count": 26,
     "metadata": {},
     "output_type": "execute_result"
    }
   ],
   "source": [
    "# Probabilidade acumulada\n",
    "binom.cdf(3,4,0.25)"
   ]
  },
  {
   "cell_type": "markdown",
   "metadata": {},
   "source": [
    "## DISTRIBUICAO NORMAL"
   ]
  },
  {
   "cell_type": "code",
   "execution_count": 37,
   "metadata": {},
   "outputs": [],
   "source": [
    "import numpy as np\n",
    "import pandas as pd"
   ]
  },
  {
   "cell_type": "code",
   "execution_count": 104,
   "metadata": {},
   "outputs": [],
   "source": [
    "normal = pd.DataFrame(np.random.randn(1500))"
   ]
  },
  {
   "cell_type": "code",
   "execution_count": 105,
   "metadata": {},
   "outputs": [
    {
     "data": {
      "text/html": [
       "<div>\n",
       "<style scoped>\n",
       "    .dataframe tbody tr th:only-of-type {\n",
       "        vertical-align: middle;\n",
       "    }\n",
       "\n",
       "    .dataframe tbody tr th {\n",
       "        vertical-align: top;\n",
       "    }\n",
       "\n",
       "    .dataframe thead th {\n",
       "        text-align: right;\n",
       "    }\n",
       "</style>\n",
       "<table border=\"1\" class=\"dataframe\">\n",
       "  <thead>\n",
       "    <tr style=\"text-align: right;\">\n",
       "      <th></th>\n",
       "      <th>0</th>\n",
       "    </tr>\n",
       "  </thead>\n",
       "  <tbody>\n",
       "    <tr>\n",
       "      <th>count</th>\n",
       "      <td>1500.000000</td>\n",
       "    </tr>\n",
       "    <tr>\n",
       "      <th>mean</th>\n",
       "      <td>0.003290</td>\n",
       "    </tr>\n",
       "    <tr>\n",
       "      <th>std</th>\n",
       "      <td>0.986692</td>\n",
       "    </tr>\n",
       "    <tr>\n",
       "      <th>min</th>\n",
       "      <td>-3.529321</td>\n",
       "    </tr>\n",
       "    <tr>\n",
       "      <th>25%</th>\n",
       "      <td>-0.658425</td>\n",
       "    </tr>\n",
       "    <tr>\n",
       "      <th>50%</th>\n",
       "      <td>-0.008881</td>\n",
       "    </tr>\n",
       "    <tr>\n",
       "      <th>75%</th>\n",
       "      <td>0.682300</td>\n",
       "    </tr>\n",
       "    <tr>\n",
       "      <th>max</th>\n",
       "      <td>2.936866</td>\n",
       "    </tr>\n",
       "  </tbody>\n",
       "</table>\n",
       "</div>"
      ],
      "text/plain": [
       "                 0\n",
       "count  1500.000000\n",
       "mean      0.003290\n",
       "std       0.986692\n",
       "min      -3.529321\n",
       "25%      -0.658425\n",
       "50%      -0.008881\n",
       "75%       0.682300\n",
       "max       2.936866"
      ]
     },
     "execution_count": 105,
     "metadata": {},
     "output_type": "execute_result"
    }
   ],
   "source": [
    "normal.describe()"
   ]
  },
  {
   "cell_type": "code",
   "execution_count": 47,
   "metadata": {},
   "outputs": [
    {
     "data": {
      "text/plain": [
       "1.0670964502609936"
      ]
     },
     "execution_count": 47,
     "metadata": {},
     "output_type": "execute_result"
    }
   ],
   "source": [
    "normal.std()[0]"
   ]
  },
  {
   "cell_type": "code",
   "execution_count": 57,
   "metadata": {},
   "outputs": [
    {
     "data": {
      "text/plain": [
       "0.13378925803396935"
      ]
     },
     "execution_count": 57,
     "metadata": {},
     "output_type": "execute_result"
    }
   ],
   "source": [
    "normal.mean()[0]"
   ]
  },
  {
   "cell_type": "code",
   "execution_count": 74,
   "metadata": {},
   "outputs": [
    {
     "data": {
      "text/plain": [
       "0    325\n",
       "dtype: int64"
      ]
     },
     "execution_count": 74,
     "metadata": {},
     "output_type": "execute_result"
    }
   ],
   "source": [
    "desvio = normal.std()[0]\n",
    "media = normal.mean()[0]\n",
    "n = 1\n",
    "tamanho = normal.count()\n",
    "normal[(normal[0] <= media-(desvio*n)) | (normal[0] >= media+(desvio*n))].count()\n",
    "\n"
   ]
  },
  {
   "cell_type": "code",
   "execution_count": 75,
   "metadata": {},
   "outputs": [
    {
     "data": {
      "text/plain": [
       "0    1000\n",
       "dtype: int64"
      ]
     },
     "execution_count": 75,
     "metadata": {},
     "output_type": "execute_result"
    }
   ],
   "source": [
    "tamanho"
   ]
  },
  {
   "cell_type": "code",
   "execution_count": 106,
   "metadata": {},
   "outputs": [],
   "source": [
    "def verifica_normal(coluna):\n",
    "    desvios = [1,2,3]\n",
    "    n = 1\n",
    "    desvio = coluna.std()[0]\n",
    "    media = coluna.mean()[0]\n",
    "    tamanho = coluna.count()[0]\n",
    "    primeiro_std = coluna[(coluna[0] <= media-(desvio*n)) | (coluna[0] >= media+(desvio*n))].count()[0]\n",
    "    print(f'Tamanho da amostra : {tamanho}')\n",
    "    print(f'Media da amostra : {media}')\n",
    "    print(f'Desvio P. da amostra : {desvio}')\n",
    "    print(f'Dentro do 1 Desvio P. da amostra : {tamanho - primeiro_std} / {((tamanho - primeiro_std)/tamanho)*100} %')\n",
    "    for n in desvios:\n",
    "        std = coluna[(coluna[0] <= media-(desvio*n)) | (coluna[0] >= media+(desvio*n))].count()[0]\n",
    "        print(f'Acima do {n} Desvio P. da amostra : {std} / {((std)/tamanho)*100} %')"
   ]
  },
  {
   "cell_type": "code",
   "execution_count": 107,
   "metadata": {},
   "outputs": [
    {
     "name": "stdout",
     "output_type": "stream",
     "text": [
      "Tamanho da amostra : 1500\n",
      "Media da amostra : 0.0032896811604454755\n",
      "Desvio P. da amostra : 0.986691579739552\n",
      "Dentro do 1 Desvio P. da amostra : 1023 / 68.2 %\n",
      "Acima do 1 Desvio P. da amostra : 477 / 31.8 %\n",
      "Acima do 2 Desvio P. da amostra : 71 / 4.733333333333333 %\n",
      "Acima do 3 Desvio P. da amostra : 1 / 0.06666666666666667 %\n"
     ]
    }
   ],
   "source": [
    "verifica_normal(normal)"
   ]
  },
  {
   "cell_type": "code",
   "execution_count": 108,
   "metadata": {},
   "outputs": [],
   "source": [
    "# definicoes da distribuicao normal \n",
    "# media central \n",
    "# 68 % dos dados dentro do primeiro desvio padrao\n",
    "# 27% dentro do segundo desvio\n",
    "# 4 % dentro do terceiro"
   ]
  },
  {
   "cell_type": "code",
   "execution_count": 110,
   "metadata": {},
   "outputs": [
    {
     "data": {
      "text/plain": [
       "<matplotlib.axes._subplots.AxesSubplot at 0x1184c3518>"
      ]
     },
     "execution_count": 110,
     "metadata": {},
     "output_type": "execute_result"
    },
    {
     "data": {
      "image/png": "[encoded data removed]",
      "text/plain": [
       "<Figure size 432x288 with 1 Axes>"
      ]
     },
     "metadata": {
      "needs_background": "light"
     },
     "output_type": "display_data"
    }
   ],
   "source": [
    "normal.plot.hist()"
   ]
  },
  {
   "cell_type": "code",
   "execution_count": 1,
   "metadata": {},
   "outputs": [],
   "source": [
    "import pandas as pd"
   ]
  },
  {
   "cell_type": "code",
   "execution_count": 3,
   "metadata": {},
   "outputs": [],
   "source": [
    "ocorrencias = pd.read_csv('../data/oco.csv', sep='~')"
   ]
  },
  {
   "cell_type": "code",
   "execution_count": 7,
   "metadata": {},
   "outputs": [
    {
     "name": "stdout",
     "output_type": "stream",
     "text": [
      "<class 'pandas.core.frame.DataFrame'>\n",
      "RangeIndex: 5250 entries, 0 to 5249\n",
      "Data columns (total 22 columns):\n",
      "codigo_ocorrencia                 5250 non-null int64\n",
      "ocorrencia_classificacao          5250 non-null object\n",
      "ocorrencia_tipo                   5250 non-null object\n",
      "ocorrencia_tipo_categoria         5250 non-null object\n",
      "ocorrencia_tipo_icao              5250 non-null object\n",
      "ocorrencia_latitude               5250 non-null float64\n",
      "ocorrencia_longitude              5250 non-null float64\n",
      "ocorrencia_cidade                 5250 non-null object\n",
      "ocorrencia_uf                     5250 non-null object\n",
      "ocorrencia_pais                   5250 non-null object\n",
      "ocorrencia_aerodromo              5250 non-null object\n",
      "ocorrencia_dia                    5250 non-null object\n",
      "ocorrencia_horario                5250 non-null object\n",
      "investigacao_aeronave_liberada    1152 non-null object\n",
      "investigacao_status               5250 non-null object\n",
      "divulgacao_relatorio_numero       5250 non-null object\n",
      "divulgacao_relatorio_publicado    5250 non-null object\n",
      "divulgacao_dia_publicacao         1287 non-null object\n",
      "total_recomendacoes               5250 non-null int64\n",
      "total_aeronaves_envolvidas        5250 non-null int64\n",
      "ocorrencia_saida_pista            5250 non-null object\n",
      "ocorrencia_dia_extracao           5250 non-null object\n",
      "dtypes: float64(2), int64(3), object(17)\n",
      "memory usage: 902.4+ KB\n"
     ]
    }
   ],
   "source": [
    "ocorrencias.info()"
   ]
  },
  {
   "cell_type": "code",
   "execution_count": 8,
   "metadata": {},
   "outputs": [
    {
     "data": {
      "text/html": [
       "<div>\n",
       "<style scoped>\n",
       "    .dataframe tbody tr th:only-of-type {\n",
       "        vertical-align: middle;\n",
       "    }\n",
       "\n",
       "    .dataframe tbody tr th {\n",
       "        vertical-align: top;\n",
       "    }\n",
       "\n",
       "    .dataframe thead th {\n",
       "        text-align: right;\n",
       "    }\n",
       "</style>\n",
       "<table border=\"1\" class=\"dataframe\">\n",
       "  <thead>\n",
       "    <tr style=\"text-align: right;\">\n",
       "      <th></th>\n",
       "      <th>codigo_ocorrencia</th>\n",
       "      <th>ocorrencia_classificacao</th>\n",
       "      <th>ocorrencia_tipo</th>\n",
       "      <th>ocorrencia_tipo_categoria</th>\n",
       "      <th>ocorrencia_tipo_icao</th>\n",
       "      <th>ocorrencia_latitude</th>\n",
       "      <th>ocorrencia_longitude</th>\n",
       "      <th>ocorrencia_cidade</th>\n",
       "      <th>ocorrencia_uf</th>\n",
       "      <th>ocorrencia_pais</th>\n",
       "      <th>...</th>\n",
       "      <th>ocorrencia_horario</th>\n",
       "      <th>investigacao_aeronave_liberada</th>\n",
       "      <th>investigacao_status</th>\n",
       "      <th>divulgacao_relatorio_numero</th>\n",
       "      <th>divulgacao_relatorio_publicado</th>\n",
       "      <th>divulgacao_dia_publicacao</th>\n",
       "      <th>total_recomendacoes</th>\n",
       "      <th>total_aeronaves_envolvidas</th>\n",
       "      <th>ocorrencia_saida_pista</th>\n",
       "      <th>ocorrencia_dia_extracao</th>\n",
       "    </tr>\n",
       "  </thead>\n",
       "  <tbody>\n",
       "    <tr>\n",
       "      <th>1352</th>\n",
       "      <td>201408238460342</td>\n",
       "      <td>ACIDENTE</td>\n",
       "      <td>COM HÉLICE</td>\n",
       "      <td>FALHA OU MAU FUNCIONAMENTO DO MOTOR</td>\n",
       "      <td>SCF-PP</td>\n",
       "      <td>-3.7758</td>\n",
       "      <td>-38.5322</td>\n",
       "      <td>FORTALEZA</td>\n",
       "      <td>CE</td>\n",
       "      <td>BRASIL</td>\n",
       "      <td>...</td>\n",
       "      <td>17:34:00</td>\n",
       "      <td>NaN</td>\n",
       "      <td>FINALIZADA</td>\n",
       "      <td>A-145/CENIPA/2014</td>\n",
       "      <td>SIM</td>\n",
       "      <td>2015-05-15</td>\n",
       "      <td>0</td>\n",
       "      <td>1</td>\n",
       "      <td>NÃO</td>\n",
       "      <td>2018-10-12</td>\n",
       "    </tr>\n",
       "    <tr>\n",
       "      <th>1353</th>\n",
       "      <td>201008287136381</td>\n",
       "      <td>INCIDENTE</td>\n",
       "      <td>COM TREM DE POUSO</td>\n",
       "      <td>FALHA OU MAU FUNCIONAMENTO DE SISTEMA / COMPON...</td>\n",
       "      <td>SCF-NP</td>\n",
       "      <td>-3.7238</td>\n",
       "      <td>-38.5899</td>\n",
       "      <td>FORTALEZA</td>\n",
       "      <td>CE</td>\n",
       "      <td>BRASIL</td>\n",
       "      <td>...</td>\n",
       "      <td>15:25:00</td>\n",
       "      <td>NaN</td>\n",
       "      <td>FINALIZADA</td>\n",
       "      <td>***</td>\n",
       "      <td>NÃO</td>\n",
       "      <td>NaN</td>\n",
       "      <td>0</td>\n",
       "      <td>1</td>\n",
       "      <td>NÃO</td>\n",
       "      <td>2018-10-12</td>\n",
       "    </tr>\n",
       "  </tbody>\n",
       "</table>\n",
       "<p>2 rows × 22 columns</p>\n",
       "</div>"
      ],
      "text/plain": [
       "      codigo_ocorrencia ocorrencia_classificacao    ocorrencia_tipo  \\\n",
       "1352    201408238460342                 ACIDENTE         COM HÉLICE   \n",
       "1353    201008287136381                INCIDENTE  COM TREM DE POUSO   \n",
       "\n",
       "                              ocorrencia_tipo_categoria ocorrencia_tipo_icao  \\\n",
       "1352                FALHA OU MAU FUNCIONAMENTO DO MOTOR               SCF-PP   \n",
       "1353  FALHA OU MAU FUNCIONAMENTO DE SISTEMA / COMPON...               SCF-NP   \n",
       "\n",
       "      ocorrencia_latitude  ocorrencia_longitude ocorrencia_cidade  \\\n",
       "1352              -3.7758              -38.5322         FORTALEZA   \n",
       "1353              -3.7238              -38.5899         FORTALEZA   \n",
       "\n",
       "     ocorrencia_uf ocorrencia_pais           ...             \\\n",
       "1352            CE          BRASIL           ...              \n",
       "1353            CE          BRASIL           ...              \n",
       "\n",
       "     ocorrencia_horario investigacao_aeronave_liberada investigacao_status  \\\n",
       "1352           17:34:00                            NaN          FINALIZADA   \n",
       "1353           15:25:00                            NaN          FINALIZADA   \n",
       "\n",
       "     divulgacao_relatorio_numero divulgacao_relatorio_publicado  \\\n",
       "1352           A-145/CENIPA/2014                            SIM   \n",
       "1353                         ***                            NÃO   \n",
       "\n",
       "     divulgacao_dia_publicacao total_recomendacoes total_aeronaves_envolvidas  \\\n",
       "1352                2015-05-15                   0                          1   \n",
       "1353                       NaN                   0                          1   \n",
       "\n",
       "      ocorrencia_saida_pista  ocorrencia_dia_extracao  \n",
       "1352                     NÃO               2018-10-12  \n",
       "1353                     NÃO               2018-10-12  \n",
       "\n",
       "[2 rows x 22 columns]"
      ]
     },
     "execution_count": 8,
     "metadata": {},
     "output_type": "execute_result"
    }
   ],
   "source": [
    "ocorrencias[ocorrencias.ocorrencia_cidade=='FORTALEZA'].head(2)"
   ]
  },
  {
   "cell_type": "code",
   "execution_count": 10,
   "metadata": {},
   "outputs": [
    {
     "data": {
      "text/plain": [
       "ESTOURO DE PNEU                                        10\n",
       "FALHA DO MOTOR EM VOO                                   7\n",
       "FALHA OU MAU FUNCIONAMENTO DE SISTEMA / COMPONENTE      5\n",
       "OUTROS                                                  5\n",
       "COM TREM DE POUSO                                       3\n",
       "SUPERAQUECIMENTO                                        2\n",
       "COLISÃO COM OBSTÁCULOS NO SOLO                          2\n",
       "FOGO NO SOLO                                            1\n",
       "TRÁFEGO AÉREO                                           1\n",
       "CORTANTE DE VENTO / TEMPESTADE                          1\n",
       "FUMAÇA NA CABINE                                        1\n",
       "PERDA DE CONTROLE NO SOLO                               1\n",
       "COM HÉLICE                                              1\n",
       "POUSO SEM TREM                                          1\n",
       "PERDA DE COMPONENTE NO SOLO                             1\n",
       "FALHA DO MOTOR NO SOLO                                  1\n",
       "SOPRO DE REATOR                                         1\n",
       "VAZAMENTO DE OUTROS FLUIDOS                             1\n",
       "F.O.D.                                                  1\n",
       "Name: ocorrencia_tipo, dtype: int64"
      ]
     },
     "execution_count": 10,
     "metadata": {},
     "output_type": "execute_result"
    }
   ],
   "source": []
  },
  {
   "cell_type": "code",
   "execution_count": null,
   "metadata": {},
   "outputs": [],
   "source": []
  }
 ],
 "metadata": {
  "kernelspec": {
   "display_name": "Python 3",
   "language": "python",
   "name": "python3"
  },
  "language_info": {
   "codemirror_mode": {
    "name": "ipython",
    "version": 3
   },
   "file_extension": ".py",
   "mimetype": "text/x-python",
   "name": "python",
   "nbconvert_exporter": "python",
   "pygments_lexer": "ipython3",
   "version": "3.6.7"
  }
 },
 "nbformat": 4,
 "nbformat_minor": 2
}
