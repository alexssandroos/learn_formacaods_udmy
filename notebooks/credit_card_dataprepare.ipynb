{
 "cells": [
  {
   "cell_type": "code",
   "execution_count": 8,
   "metadata": {},
   "outputs": [],
   "source": [
    "# Data Prepare of Credit card \n",
    "from pandas import read_csv\n",
    "from pandas import DataFrame\n",
    "import sqlite3"
   ]
  },
  {
   "cell_type": "code",
   "execution_count": 9,
   "metadata": {},
   "outputs": [],
   "source": [
    "# Metodos uteis\n",
    "# preenche com a mediana uma coluna AGRUPADA\n",
    "def fill_na_median(dataframe, grupo, valor, tipo='median'):\n",
    "    return dataframe[valor].fillna\\\n",
    "        (dataframe.groupby(grupo)[valor]\\\n",
    "         .transform(tipo))\n",
    "#normaliza a coluna do tipo standardization\n",
    "def nomaliza_std(dataframe, coluna):\n",
    "    return (dataframe[coluna]-dataframe[coluna].mean())/dataframe[coluna].std()\n",
    "\n",
    "df = read_csv('../data/credit-data.csv')"
   ]
  },
  {
   "cell_type": "code",
   "execution_count": 10,
   "metadata": {},
   "outputs": [],
   "source": [
    "# fill na values with median of serie\n",
    "df['age'] = df['age'].fillna(df['age'][df['age']>0].median())\n",
    "# replace negative velues with median\n",
    "df.loc[df['age']<0, 'age'] = df['age'][df['age']>0].median()\n",
    "# normalize columns \n",
    "for coluna in ['income', 'age', 'loan']:\n",
    "    df[coluna] = nomaliza_std(df, coluna)\n",
    "\n",
    "# feito os tratamentos jogar os dados no SQLite\n",
    "conn = sqlite3.connect('../data/db.db')\n",
    "cursor = conn.cursor()\n",
    "\n",
    "\n",
    "df.to_sql('credit_data', con=conn, if_exists='replace', index=False)\n",
    "\n",
    "#X = df[['income', 'age', 'loan']]\n",
    "#y = df['default']   "
   ]
  }
 ],
 "metadata": {
  "kernelspec": {
   "display_name": "Python 3",
   "language": "python",
   "name": "python3"
  },
  "language_info": {
   "codemirror_mode": {
    "name": "ipython",
    "version": 3
   },
   "file_extension": ".py",
   "mimetype": "text/x-python",
   "name": "python",
   "nbconvert_exporter": "python",
   "pygments_lexer": "ipython3",
   "version": "3.6.7"
  }
 },
 "nbformat": 4,
 "nbformat_minor": 2
}
