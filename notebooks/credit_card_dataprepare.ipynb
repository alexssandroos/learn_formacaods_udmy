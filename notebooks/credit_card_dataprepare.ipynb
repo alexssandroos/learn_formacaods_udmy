{
 "cells": [
  {
   "cell_type": "code",
   "execution_count": 1,
   "metadata": {},
   "outputs": [],
   "source": [
    "# Data Prepare of Credit card \n",
    "import pandas as pd"
   ]
  },
  {
   "cell_type": "code",
   "execution_count": 25,
   "metadata": {},
   "outputs": [
    {
     "name": "stdout",
     "output_type": "stream",
     "text": [
      "<class 'pandas.core.frame.DataFrame'>\n",
      "RangeIndex: 2000 entries, 0 to 1999\n",
      "Data columns (total 5 columns):\n",
      "clientid    2000 non-null int64\n",
      "income      2000 non-null float64\n",
      "age         1997 non-null float64\n",
      "loan        2000 non-null float64\n",
      "default     2000 non-null int64\n",
      "dtypes: float64(3), int64(2)\n",
      "memory usage: 78.2 KB\n"
     ]
    }
   ],
   "source": [
    "df = pd.read_csv('../data/credit-data.csv')\n",
    "df.info()"
   ]
  },
  {
   "cell_type": "code",
   "execution_count": 26,
   "metadata": {},
   "outputs": [],
   "source": [
    "# Metodos uteis\n",
    "# preenche com a mediana uma coluna AGRUPADA\n",
    "def fill_na_median(dataframe, grupo, valor, tipo='median'):\n",
    "    return dataframe[valor].fillna\\\n",
    "        (dataframe.groupby(grupo)[valor]\\\n",
    "         .transform(tipo))\n",
    "#normaliza a coluna do tipo standardization\n",
    "def nomaliza_std(dataframe, coluna):\n",
    "    return (dataframe[coluna]-dataframe[coluna].mean())/dataframe[coluna].std()"
   ]
  },
  {
   "cell_type": "code",
   "execution_count": 27,
   "metadata": {},
   "outputs": [],
   "source": [
    "# fill na values with median of serie\n",
    "df['age'] = df['age'].fillna(df['age'][df['age']>0].median())\n",
    "# replace negative velues with median\n",
    "df.loc[df['age']<0, 'age'] = df['age'][df['age']>0].median()"
   ]
  },
  {
   "cell_type": "code",
   "execution_count": 35,
   "metadata": {},
   "outputs": [],
   "source": [
    "# normalize columns \n",
    "for coluna in ['income', 'age', 'loan']:\n",
    "    df[coluna] = nomaliza_std(df, coluna)"
   ]
  },
  {
   "cell_type": "code",
   "execution_count": 37,
   "metadata": {},
   "outputs": [
    {
     "data": {
      "text/html": [
       "<div>\n",
       "<style scoped>\n",
       "    .dataframe tbody tr th:only-of-type {\n",
       "        vertical-align: middle;\n",
       "    }\n",
       "\n",
       "    .dataframe tbody tr th {\n",
       "        vertical-align: top;\n",
       "    }\n",
       "\n",
       "    .dataframe thead th {\n",
       "        text-align: right;\n",
       "    }\n",
       "</style>\n",
       "<table border=\"1\" class=\"dataframe\">\n",
       "  <thead>\n",
       "    <tr style=\"text-align: right;\">\n",
       "      <th></th>\n",
       "      <th>clientid</th>\n",
       "      <th>income</th>\n",
       "      <th>age</th>\n",
       "      <th>loan</th>\n",
       "      <th>default</th>\n",
       "    </tr>\n",
       "  </thead>\n",
       "  <tbody>\n",
       "    <tr>\n",
       "      <th>0</th>\n",
       "      <td>1</td>\n",
       "      <td>1.453570</td>\n",
       "      <td>1.364933</td>\n",
       "      <td>1.202519</td>\n",
       "      <td>0</td>\n",
       "    </tr>\n",
       "    <tr>\n",
       "      <th>1</th>\n",
       "      <td>2</td>\n",
       "      <td>-0.761985</td>\n",
       "      <td>0.542420</td>\n",
       "      <td>0.696253</td>\n",
       "      <td>0</td>\n",
       "    </tr>\n",
       "  </tbody>\n",
       "</table>\n",
       "</div>"
      ],
      "text/plain": [
       "   clientid    income       age      loan  default\n",
       "0         1  1.453570  1.364933  1.202519        0\n",
       "1         2 -0.761985  0.542420  0.696253        0"
      ]
     },
     "execution_count": 37,
     "metadata": {},
     "output_type": "execute_result"
    }
   ],
   "source": [
    "df.head(2)"
   ]
  }
 ],
 "metadata": {
  "kernelspec": {
   "display_name": "Python 3",
   "language": "python",
   "name": "python3"
  },
  "language_info": {
   "codemirror_mode": {
    "name": "ipython",
    "version": 3
   },
   "file_extension": ".py",
   "mimetype": "text/x-python",
   "name": "python",
   "nbconvert_exporter": "python",
   "pygments_lexer": "ipython3",
   "version": "3.6.7"
  }
 },
 "nbformat": 4,
 "nbformat_minor": 2
}
